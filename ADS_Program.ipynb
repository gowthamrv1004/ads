{
  "nbformat": 4,
  "nbformat_minor": 0,
  "metadata": {
    "colab": {
      "provenance": []
    },
    "kernelspec": {
      "name": "python3",
      "display_name": "Python 3"
    },
    "language_info": {
      "name": "python"
    }
  },
  "cells": [
    {
      "cell_type": "code",
      "execution_count": null,
      "metadata": {
        "colab": {
          "base_uri": "https://localhost:8080/"
        },
        "id": "V0fivQdRrHZO",
        "outputId": "fdeed26a-c8c0-4678-8c2d-ed155ab30887"
      },
      "outputs": [
        {
          "output_type": "stream",
          "name": "stdout",
          "text": [
            "(1, -4, 15)\n"
          ]
        }
      ],
      "source": [
        " #Lab 1 - Euclid’s Algorithm for GCD (Extended version returningBezout coefficie\n",
        " def egcd(a,b):\n",
        "    if b == 0:\n",
        "        return a,1,0\n",
        "    gcd, x1, y1 = egcd(b, a%b)\n",
        "    x = y1\n",
        "    y = x1 - (a//b) * y1\n",
        "    return gcd, x, y\n",
        " a,b = 56,15\n",
        " print(egcd(a,b))"
      ]
    },
    {
      "cell_type": "code",
      "source": [
        " #Lab 2(a) - Euler’s Totient Function (Naive Approach)\n",
        " def gcd(a,b):\n",
        "    while b:\n",
        "        a,b = b, a%b\n",
        "    return a\n",
        " def totient(n):\n",
        "    c = 0\n",
        "    for i in range(1, n+1):\n",
        "        if gcd(i,n) == 1:\n",
        "            c += 1\n",
        "    return c\n",
        " print(totient(11))"
      ],
      "metadata": {
        "colab": {
          "base_uri": "https://localhost:8080/"
        },
        "id": "x0_ixJCZr3A6",
        "outputId": "01065b53-c4a4-4355-841c-98eb6dd89888"
      },
      "execution_count": null,
      "outputs": [
        {
          "output_type": "stream",
          "name": "stdout",
          "text": [
            "10\n"
          ]
        }
      ]
    },
    {
      "cell_type": "code",
      "source": [
        "# Lab 2(b) - Euler’s Totient Function (Efficient Approach)\n",
        "def phi(n):\n",
        "    result = n\n",
        "    p = 2\n",
        "    while p*p <= n:\n",
        "        if n%p == 0:\n",
        "            while n%p == 0:\n",
        "                n //= p\n",
        "            result -= result // p\n",
        "        p += 1\n",
        "\n",
        "    if n > 1:\n",
        "        result -= result // n\n",
        "    return result\n",
        "print(phi(20))"
      ],
      "metadata": {
        "colab": {
          "base_uri": "https://localhost:8080/"
        },
        "id": "3w6Brg9Rr5RG",
        "outputId": "fc0cc7f0-9f6e-47a1-a09c-fa52e5b5d3bf"
      },
      "execution_count": null,
      "outputs": [
        {
          "output_type": "stream",
          "name": "stdout",
          "text": [
            "8\n"
          ]
        }
      ]
    },
    {
      "cell_type": "code",
      "source": [
        "# Lab 3 - Sieve of Eratosthenes (Generate primes up to n)\n",
        "def seive(n):\n",
        "    primes = [True] * (n+1)\n",
        "    primes[0] = primes[1] = False\n",
        "    p = 2\n",
        "    while p*p <= n:\n",
        "        if primes[p]:\n",
        "            for i in range(p*p, n+1, p):\n",
        "                primes[i] = False\n",
        "        p += 1\n",
        "    return [x for x in range(n+1) if primes[x]]\n",
        "print(seive(10))"
      ],
      "metadata": {
        "colab": {
          "base_uri": "https://localhost:8080/"
        },
        "id": "_LDpD-a5sPlS",
        "outputId": "ad9adaec-4dab-48e0-b689-5be0fdf47418"
      },
      "execution_count": null,
      "outputs": [
        {
          "output_type": "stream",
          "name": "stdout",
          "text": [
            "[2, 3, 5, 7]\n"
          ]
        }
      ]
    },
    {
      "cell_type": "code",
      "source": [
        "# Lab 4 - Graph Representation and Visualization\n",
        "n = [0,1,2,3,4,5]\n",
        "e = [[5,0],[5,2],[4,0],[4,1],[2,3],[3,1]]\n",
        "g = []\n",
        "\n",
        "for i in n:\n",
        "    g.append([0] * len(n))\n",
        "\n",
        "for i in n:\n",
        "  for j in e:\n",
        "    g[j[0]][j[1]] = 1\n",
        "    g[j[1]][j[0]] = 1\n",
        "\n",
        "for i in g:\n",
        "  print(i)"
      ],
      "metadata": {
        "colab": {
          "base_uri": "https://localhost:8080/"
        },
        "id": "O5dNtSnesWCQ",
        "outputId": "edae8ac3-d9f1-490a-d766-91d89d26b326"
      },
      "execution_count": null,
      "outputs": [
        {
          "output_type": "stream",
          "name": "stdout",
          "text": [
            "[0, 0, 0, 0, 1, 1]\n",
            "[0, 0, 0, 1, 1, 0]\n",
            "[0, 0, 0, 1, 0, 1]\n",
            "[0, 1, 1, 0, 0, 0]\n",
            "[1, 1, 0, 0, 0, 0]\n",
            "[1, 0, 1, 0, 0, 0]\n"
          ]
        }
      ]
    },
    {
      "cell_type": "code",
      "source": [
        "# Lab 5 - Topological Sort (DAG)\n",
        "from collections import deque, defaultdict\n",
        "\n",
        "def topological_sort(nodes,edges):\n",
        "    adj_list = defaultdict(list)\n",
        "    in_degree = {node : 0 for node in nodes}\n",
        "\n",
        "    for src,dest in edges:\n",
        "        adj_list[src].append(dest)\n",
        "        in_degree[dest] += 1\n",
        "\n",
        "    queue = deque([node for node in in_degree if in_degree[node] == 0])\n",
        "    sorted_order = []\n",
        "\n",
        "    while queue:\n",
        "        current_node = queue.popleft()\n",
        "        sorted_order.append(current_node)\n",
        "\n",
        "        if current_node in adj_list:\n",
        "            for neighbor in adj_list[current_node]:\n",
        "                in_degree[neighbor] -= 1\n",
        "\n",
        "                if in_degree[neighbor] == 0:\n",
        "                    queue.append(neighbor)\n",
        "\n",
        "    if len(sorted_order) == len(nodes):\n",
        "        return sorted_order\n",
        "    else:\n",
        "        return []\n",
        "\n",
        "n = [0,1,2,3,4,5]\n",
        "e = [[5,0],[5,2],[4,0],[4,1],[2,3],[3,1]]\n",
        "\n",
        "result = topological_sort(n,e)\n",
        "\n",
        "if result:\n",
        "    print(result)\n",
        "else:\n",
        "    print(\"Topological Sort is not possible due to cycles\")"
      ],
      "metadata": {
        "colab": {
          "base_uri": "https://localhost:8080/"
        },
        "id": "23PZzz4utFxO",
        "outputId": "1f0a895e-fc0d-4b3e-c677-7db113e13b4c"
      },
      "execution_count": null,
      "outputs": [
        {
          "output_type": "stream",
          "name": "stdout",
          "text": [
            "[4, 5, 0, 2, 3, 1]\n"
          ]
        }
      ]
    },
    {
      "cell_type": "code",
      "source": [
        "# Lab 6 - All Pairs Shortest Path (Floyd-Warshall) as Weighted Graph\n",
        "import math\n",
        "\n",
        "def apsp(nodes,weighted_edges):\n",
        "    num_nodes = len(nodes)\n",
        "\n",
        "    dist = [[math.inf] * num_nodes for _ in range(num_nodes)]\n",
        "\n",
        "    for i in range(num_nodes):\n",
        "        dist[i][i] = 0\n",
        "\n",
        "    for src, dest, weight in weighted_edges:\n",
        "        dist[src][dest] = weight\n",
        "\n",
        "    for k in range(num_nodes):                                            # Intermidiate Node\n",
        "        for i in range(num_nodes):                                        # Source Node\n",
        "            for j in range(num_nodes):                                    # Destination Node\n",
        "                if dist[i][k] != math.inf and dist[k][j] != math.inf:     # If the path from i to j through k is shorter, update it\n",
        "                    dist[i][j] = min(dist[i][j], dist[i][k] + dist[k][j])\n",
        "\n",
        "    return dist\n",
        "\n",
        "n = [0,1,2,3,4,5]\n",
        "e_weighted = [[5, 0, 3], [5, 2, 1], [4, 0, 2], [4, 1, 8], [2, 3, 4], [3, 1, 2]]\n",
        "\n",
        "short_path  = apsp(n,e_weighted)\n",
        "\n",
        "for i in short_path:\n",
        "    print(i)"
      ],
      "metadata": {
        "colab": {
          "base_uri": "https://localhost:8080/"
        },
        "id": "6Yjq24yCvkM1",
        "outputId": "ae6084bc-2247-4d9b-989f-8cd645bf7c0b"
      },
      "execution_count": null,
      "outputs": [
        {
          "output_type": "stream",
          "name": "stdout",
          "text": [
            "[0, inf, inf, inf, inf, inf]\n",
            "[inf, 0, inf, inf, inf, inf]\n",
            "[inf, 6, 0, 4, inf, inf]\n",
            "[inf, 2, inf, 0, inf, inf]\n",
            "[2, 8, inf, inf, 0, inf]\n",
            "[3, 7, 1, 5, inf, 0]\n"
          ]
        }
      ]
    },
    {
      "cell_type": "code",
      "source": [
        "# Lab 7 - Single Source Shortest Path\n",
        "import heapq\n",
        "from collections import defaultdict\n",
        "\n",
        "def dijkstra(nodes,edges,source_node):\n",
        "\n",
        "    adj_list = defaultdict(list)\n",
        "\n",
        "    for src, dest in edges:\n",
        "        adj_list[src].append((dest,1)) # (neighbor, weight)\n",
        "\n",
        "    distances = {node : float('inf') for node in nodes}\n",
        "    distances[source_node] = 0\n",
        "\n",
        "    priority_queue = [(0,source_node)] #(distance, node)\n",
        "\n",
        "    while priority_queue:\n",
        "\n",
        "        current_distance, current_node = heapq.heappop(priority_queue)\n",
        "\n",
        "        if current_distance > distances[current_node]:\n",
        "            continue\n",
        "\n",
        "        if current_node in adj_list:\n",
        "            for neighbor, weight in adj_list[current_node]:\n",
        "                distance = current_distance + weight\n",
        "\n",
        "                if distance < distances[neighbor]:\n",
        "                    distances[neighbor] = distance\n",
        "                    heapq.heappush(priority_queue,(distance,neighbor))\n",
        "\n",
        "    return distances\n",
        "\n",
        "n = [0, 1, 2, 3, 4, 5]\n",
        "e = [[5, 0], [5, 2], [4, 0], [4, 1], [2, 3], [3, 1]]\n",
        "\n",
        "source = 4\n",
        "shortest_paths_from_source = dijkstra(n, e, source)\n",
        "\n",
        "# --- Print the Results ---\n",
        "print(f\"Single Source Shortest Paths from Node {source}:\")\n",
        "for node, distance in shortest_paths_from_source.items():\n",
        "    print(f\"  Distance to node {node}: {distance}\")"
      ],
      "metadata": {
        "colab": {
          "base_uri": "https://localhost:8080/"
        },
        "id": "u92fq4KBwaQ6",
        "outputId": "46f9b6ad-8f18-42b0-c3fc-7b05e32e334f"
      },
      "execution_count": null,
      "outputs": [
        {
          "output_type": "stream",
          "name": "stdout",
          "text": [
            "Single Source Shortest Paths from Node 4:\n",
            "  Distance to node 0: 1\n",
            "  Distance to node 1: 1\n",
            "  Distance to node 2: inf\n",
            "  Distance to node 3: inf\n",
            "  Distance to node 4: 0\n",
            "  Distance to node 5: inf\n"
          ]
        }
      ]
    },
    {
      "cell_type": "code",
      "source": [
        "# Lab 8 - Knapsack Problem (Dynamic Programming)\n",
        "def knapsack(weights, values, capacity):\n",
        "\n",
        "    n = len(values)\n",
        "\n",
        "    dp = [[0]*(capacity+1) for _ in range(n+1)]\n",
        "\n",
        "    for i in range(1,n+1):\n",
        "        item_index = i-1\n",
        "\n",
        "        for w in range(1,capacity+1):\n",
        "            if weights[item_index] <= w:\n",
        "\n",
        "                value_without_items = dp[i-1][w]\n",
        "                value_with_items = values[item_index] + dp[i-1][w-weights[item_index]]\n",
        "\n",
        "                dp[i][w] = max(value_with_items,value_without_items)\n",
        "\n",
        "            else:\n",
        "                dp[i][w] = dp[i-1][w]\n",
        "\n",
        "    return dp[n][capacity]\n",
        "\n",
        "w = [2,3,4,5]\n",
        "v = [3,4,5,6]\n",
        "c = 5\n",
        "\n",
        "print(\"Maximum Value: \", knapsack(w,v,c))"
      ],
      "metadata": {
        "colab": {
          "base_uri": "https://localhost:8080/"
        },
        "id": "WxCs4sv-wewd",
        "outputId": "42c084e6-73f6-4c59-952e-c04d7cf38fbd"
      },
      "execution_count": null,
      "outputs": [
        {
          "output_type": "stream",
          "name": "stdout",
          "text": [
            "Maximum Value:  7\n"
          ]
        }
      ]
    },
    {
      "cell_type": "code",
      "source": [
        "# Lab 9 - Median Finding in two sorted Arrays(Divide&Conquer idea)\n",
        "def medianOfArrays(arr1,arr2):\n",
        "    arr = sorted(arr1 + arr2)\n",
        "    n = len(arr)\n",
        "    mid = n//2\n",
        "    if n%2 == 0:\n",
        "        return (arr[mid - 1] + arr[mid])/2\n",
        "    else:\n",
        "        return arr[mid]\n",
        "\n",
        "arr1 = [1,3]\n",
        "arr2 = [2,4]\n",
        "\n",
        "print(\"Median: \", medianOfArrays(arr1,arr2))"
      ],
      "metadata": {
        "colab": {
          "base_uri": "https://localhost:8080/"
        },
        "id": "4YcthQ5dwn-y",
        "outputId": "c4f41346-84b0-49d9-9a30-ebee15c6885b"
      },
      "execution_count": null,
      "outputs": [
        {
          "output_type": "stream",
          "name": "stdout",
          "text": [
            "Median:  2.5\n"
          ]
        }
      ]
    },
    {
      "cell_type": "code",
      "source": [
        "# Lab 10 - Activity Selection (Greedy scheduling Algorithm)\n",
        "def activity_selection(activities):\n",
        "    activities.sort(key=lambda x: x[1])\n",
        "    selected = [activities[0]]\n",
        "\n",
        "    for i in range(1,len(activities)):\n",
        "        if activities[i][0] >= selected[-1][1]:\n",
        "            selected.append(activities[i])\n",
        "\n",
        "    return selected\n",
        "\n",
        "activities = [(1,3),(2,4),(3,5),(0,6),(5,7),(8,9)]\n",
        "\n",
        "print(\"Selected Activities: \", activity_selection(activities))"
      ],
      "metadata": {
        "colab": {
          "base_uri": "https://localhost:8080/"
        },
        "id": "_3mB9gJwwq2Z",
        "outputId": "bd8576ad-9697-4911-b239-3b9b930ee160"
      },
      "execution_count": null,
      "outputs": [
        {
          "output_type": "stream",
          "name": "stdout",
          "text": [
            "Selected Activities:  [(1, 3), (3, 5), (5, 7), (8, 9)]\n"
          ]
        }
      ]
    },
    {
      "cell_type": "code",
      "source": [
        "# Lab 13 - Minimum cost Bipartite Matching\n",
        "from scipy.optimize import linear_sum_assignment\n",
        "import numpy as np\n",
        "\n",
        "cost = np.array([\n",
        "    [4,1,3],\n",
        "    [2,0,5],\n",
        "    [3,2,2]\n",
        "])\n",
        "\n",
        "row_ind, col_ind = linear_sum_assignment(cost)\n",
        "\n",
        "print(\"Minimum Cost = \", cost[row_ind,col_ind].sum())"
      ],
      "metadata": {
        "id": "s5fo2cVowuVU"
      },
      "execution_count": null,
      "outputs": []
    },
    {
      "cell_type": "code",
      "source": [
        "# Lab 15 - Subset sum problem (NP-complete) - Recursive Decision\n",
        "def subset_sum(nums,target):\n",
        "\n",
        "    possible_sums = {0}\n",
        "\n",
        "    for num in nums:\n",
        "        new_sums = set()\n",
        "\n",
        "        for s in possible_sums:\n",
        "            new_sums.add(s+num)\n",
        "\n",
        "        possible_sums.update(new_sums)\n",
        "\n",
        "    return target in possible_sums\n",
        "\n",
        "nums = [3, 34, 4, 12, 5, 2]\n",
        "target = 9\n",
        "\n",
        "print(f\"Subset for {target} exists: {subset_sum(nums,target)}\")"
      ],
      "metadata": {
        "id": "r6K1LirxwySl",
        "outputId": "28efe4ec-61fe-4d51-c35c-4cb2b8f30844",
        "colab": {
          "base_uri": "https://localhost:8080/"
        }
      },
      "execution_count": null,
      "outputs": [
        {
          "output_type": "stream",
          "name": "stdout",
          "text": [
            "Subset for 9 exists: True\n"
          ]
        }
      ]
    }
  ]
}